{
 "cells": [
  {
   "cell_type": "markdown",
   "metadata": {},
   "source": [
    "# This is a Jupyter-Tensorflow Notebook/Lab"
   ]
  },
  {
   "cell_type": "markdown",
   "metadata": {},
   "source": [
    "## docker run -p 8888:8888 jupyter/tensorflow-notebook"
   ]
  },
  {
   "cell_type": "code",
   "execution_count": 1,
   "metadata": {},
   "outputs": [
    {
     "name": "stdout",
     "output_type": "stream",
     "text": [
      "tensorflow             2.0.0              \n",
      "tensorflow-estimator   2.0.1              \n",
      "Note: you may need to restart the kernel to use updated packages.\n"
     ]
    }
   ],
   "source": [
    "pip list | grep tensorflow"
   ]
  },
  {
   "cell_type": "code",
   "execution_count": 7,
   "metadata": {},
   "outputs": [
    {
     "name": "stdout",
     "output_type": "stream",
     "text": [
      "<module 'tensorflow_core._api.v2.version' from '/opt/conda/lib/python3.7/site-packages/tensorflow_core/_api/v2/version/__init__.py'>\n"
     ]
    }
   ],
   "source": [
    "import tensorflow as tf\n",
    "print(tf.version)"
   ]
  },
  {
   "cell_type": "code",
   "execution_count": 11,
   "metadata": {},
   "outputs": [
    {
     "name": "stdout",
     "output_type": "stream",
     "text": [
      "Note: you may need to restart the kernel to use updated packages.\n"
     ]
    }
   ],
   "source": [
    "pip list | grep keras"
   ]
  },
  {
   "cell_type": "code",
   "execution_count": 12,
   "metadata": {},
   "outputs": [
    {
     "name": "stdout",
     "output_type": "stream",
     "text": [
      "pandas                 0.25.3             \n",
      "Note: you may need to restart the kernel to use updated packages.\n"
     ]
    }
   ],
   "source": [
    "pip list | grep pandas"
   ]
  },
  {
   "cell_type": "code",
   "execution_count": 14,
   "metadata": {},
   "outputs": [
    {
     "name": "stdout",
     "output_type": "stream",
     "text": [
      "matplotlib             3.1.2              \n",
      "Note: you may need to restart the kernel to use updated packages.\n"
     ]
    }
   ],
   "source": [
    "pip list | grep matplotlib"
   ]
  },
  {
   "cell_type": "code",
   "execution_count": 16,
   "metadata": {},
   "outputs": [
    {
     "name": "stdout",
     "output_type": "stream",
     "text": [
      "numpy                  1.17.3             \n",
      "Note: you may need to restart the kernel to use updated packages.\n"
     ]
    }
   ],
   "source": [
    "pip list | grep numpy"
   ]
  },
  {
   "cell_type": "markdown",
   "metadata": {},
   "source": [
    "# MACHINE LEARNING\n",
    "Prerequisites\n",
    "Machine Learning Crash Course does not presume or require any prior knowledge in machine learning. However, to understand the concepts presented and complete the exercises, we recommend that students meet the following prerequisites:\n",
    "\n",
    "Mastery of intro-level algebra. You should be comfortable with variables and coefficients, linear equations, graphs of functions, and histograms. (Familiarity with more advanced math concepts such as logarithms and derivatives is helpful, but not required.)\n",
    "\n",
    "Proficiency in programming basics, and some experience coding in Python. Programming exercises in Machine Learning Crash Course are coded in Python using TensorFlow. No prior experience with TensorFlow is required, but you should feel comfortable reading and writing Python code that contains basic programming constructs, such as function definitions/invocations, lists and dicts, loops, and conditional expressions.\n",
    "\n",
    "Note: See the Key Concepts and Tools section below for a detailed list of math and programming concepts used in Machine Learning Crash Course, with reference materials for each.\n",
    "Prework\n",
    "Programming exercises run directly in your browser (no setup required!) using the Colaboratory platform. Colaboratory is supported on most major browsers, and is most thoroughly tested on desktop versions of Chrome and Firefox. If you'd prefer to download and run the exercises offline, see these instructions for setting up a local environment.\n",
    "\n",
    "Problem Framing\n",
    "If you're new to machine learning, we recommend starting your journey by taking Introduction to Machine Learning Problem Framing. This one-hour course teaches you how to identify appropriate problems for machine learning.\n",
    "\n",
    "Getting Started with pandas\n",
    "The programming exercises in Machine Learning Crash Course use the pandas library for manipulating data sets. If you're unfamiliar with pandas, we recommend completing the Quick Introduction to pandas tutorial, which illustrates the key pandas features used in the exercises.\n",
    "\n",
    "Key Concepts and Tools\n",
    "Machine Learning Crash Course discusses and applies the following concepts and tools. For more information, see the linked resources.\n",
    "\n",
    "Math\n",
    "Algebra\n",
    "Variables, coefficients, and functions\n",
    "Linear equations such as \n",
    "Logarithms, and logarithmic equations such as \n",
    "Sigmoid function\n",
    "Linear algebra\n",
    "Tensor and tensor rank\n",
    "Matrix multiplication\n",
    "Trigonometry\n",
    "Tanh (discussed as an activation function; no prior knowledge needed)\n",
    "Statistics\n",
    "Mean, median, outliers, and standard deviation\n",
    "Ability to read a histogram\n",
    "Calculus (optional, for advanced topics)\n",
    "Concept of a derivative (you won't have to actually calculate derivatives)\n",
    "Gradient or slope\n",
    "Partial derivatives (which are closely related to gradients)\n",
    "Chain rule (for a full understanding of the backpropagation algorithm for training neural networks)\n",
    "Python Programming\n",
    "Basic Python\n",
    "The following Python basics are covered in The Python Tutorial:\n",
    "\n",
    "Defining and calling functions, using positional and keyword parameters\n",
    "\n",
    "Dictionaries, lists, sets (creating, accessing, and iterating)\n",
    "\n",
    "for loops, for loops with multiple iterator variables (e.g., for a, b in [(1,2), (3,4)])\n",
    "\n",
    "if/else conditional blocks and conditional expressions\n",
    "\n",
    "String formatting (e.g., '%.2f' % 3.14)\n",
    "\n",
    "Variables, assignment, basic data types (int, float, bool, str)\n",
    "\n",
    "The pass statement\n",
    "\n",
    "Intermediate Python\n",
    "The following more advanced Python features are also covered in The Python Tutorial:\n",
    "\n",
    "List comprehensions\n",
    "Lambda functions\n",
    "Third-Party Python Libraries\n",
    "Machine Learning Crash Course code examples use the following features from third-party libraries. Prior familiarity with these libraries is not necessary; you can look up what you need to know when you need it.\n",
    "\n",
    "Matplotlib (for data visualization)\n",
    "pyplot module\n",
    "cm module\n",
    "gridspec module\n",
    "Seaborn (for heatmaps)\n",
    "heatmap function\n",
    "pandas (for data manipulation)\n",
    "DataFrame class\n",
    "NumPy (for low-level math operations)\n",
    "linspace function\n",
    "random function\n",
    "array function\n",
    "arange function\n",
    "scikit-learn (for evaluation metrics)\n",
    "metrics module\n",
    "Bash Terminal / Cloud Console\n",
    "To run the programming exercises on your local machine or in a cloud console, you should be comfortable working on the command line:\n",
    "\n",
    "Bash Reference Manual\n",
    "Bash Cheatsheet\n",
    "Learn Shell"
   ]
  },
  {
   "cell_type": "markdown",
   "metadata": {},
   "source": [
    "# Source: Kaggle\n",
    "# Hello, Python!"
   ]
  },
  {
   "cell_type": "code",
   "execution_count": 12,
   "metadata": {},
   "outputs": [
    {
     "name": "stdout",
     "output_type": "stream",
     "text": [
      "0\n",
      "But I don't want ANY spam!\n",
      "spam spam spamspam spam spam\n",
      "<class 'int'>\n",
      "<class 'float'>\n"
     ]
    }
   ],
   "source": [
    "spam_amount = 0\n",
    "print(spam_amount)\n",
    "# ordering spam, egg, spam, spam, bacon and spam (4 more serving of spam)\n",
    "spam_amount = spam_amount + 2\n",
    "\n",
    "if spam_amount > 0:\n",
    "    print(\"But I don't want ANY spam!\")\n",
    "viking_song = \"spam spam spam\" *spam_amount\n",
    "print(viking_song)\n",
    "#To know type of spam_amount\n",
    "print(type(spam_amount))\n",
    "#To know type of float\n",
    "print(type(19.95))"
   ]
  },
  {
   "cell_type": "markdown",
   "metadata": {},
   "source": [
    "# Numbers and arithmetic in Python"
   ]
  },
  {
   "cell_type": "code",
   "execution_count": 17,
   "metadata": {},
   "outputs": [
    {
     "name": "stdout",
     "output_type": "stream",
     "text": [
      "2.5\n",
      "2\n"
     ]
    }
   ],
   "source": [
    "print(5 / 2)\n",
    "print(5 // 2)"
   ]
  },
  {
   "cell_type": "code",
   "execution_count": 21,
   "metadata": {},
   "outputs": [
    {
     "name": "stdout",
     "output_type": "stream",
     "text": [
      "7\n",
      "5\n"
     ]
    }
   ],
   "source": [
    "print(8 - 3 + 2)\n",
    "print(-3 + 4 * 2)"
   ]
  },
  {
   "cell_type": "code",
   "execution_count": 26,
   "metadata": {},
   "outputs": [
    {
     "name": "stdout",
     "output_type": "stream",
     "text": [
      "Height in meters = 26.9\n"
     ]
    }
   ],
   "source": [
    "hat_height_cm = 25\n",
    "my_height_cm = 190\n",
    "\n",
    "# How tall am I, in =\n",
    "total_height_meters = hat_height_cm + my_height_cm / 100\n",
    "print(\"Height in meters =\", total_height_meters)\n"
   ]
  },
  {
   "cell_type": "markdown",
   "metadata": {},
   "source": [
    "## Builtin functions for working with numbers"
   ]
  },
  {
   "cell_type": "code",
   "execution_count": 32,
   "metadata": {},
   "outputs": [
    {
     "name": "stdout",
     "output_type": "stream",
     "text": [
      "1\n",
      "4\n",
      "32\n",
      "32\n"
     ]
    }
   ],
   "source": [
    "print(min(1,2,3))\n",
    "print(max(1,2,4))\n",
    "print(abs(32))\n",
    "print(abs(-32))"
   ]
  },
  {
   "cell_type": "code",
   "execution_count": 5,
   "metadata": {},
   "outputs": [
    {
     "ename": "ModuleNotFoundError",
     "evalue": "No module named 'pytest'",
     "output_type": "error",
     "traceback": [
      "\u001b[0;31m---------------------------------------------------------------------------\u001b[0m",
      "\u001b[0;31mModuleNotFoundError\u001b[0m                       Traceback (most recent call last)",
      "\u001b[0;32m<ipython-input-5-1d7cca7a3225>\u001b[0m in \u001b[0;36m<module>\u001b[0;34m\u001b[0m\n\u001b[1;32m      1\u001b[0m \u001b[0;32mimport\u001b[0m \u001b[0mrandom\u001b[0m \u001b[0;32mas\u001b[0m \u001b[0mr\u001b[0m\u001b[0;34m\u001b[0m\u001b[0;34m\u001b[0m\u001b[0m\n\u001b[1;32m      2\u001b[0m \u001b[0;32mfrom\u001b[0m \u001b[0mcmath\u001b[0m \u001b[0;32mimport\u001b[0m \u001b[0msqrt\u001b[0m\u001b[0;34m\u001b[0m\u001b[0;34m\u001b[0m\u001b[0m\n\u001b[0;32m----> 3\u001b[0;31m \u001b[0;32mfrom\u001b[0m \u001b[0mpytest\u001b[0m \u001b[0;32mimport\u001b[0m \u001b[0mapprox\u001b[0m\u001b[0;34m\u001b[0m\u001b[0;34m\u001b[0m\u001b[0m\n\u001b[0m\u001b[1;32m      4\u001b[0m \u001b[0;34m\u001b[0m\u001b[0m\n\u001b[1;32m      5\u001b[0m \u001b[0mtests\u001b[0m \u001b[0;34m=\u001b[0m \u001b[0;34m{\u001b[0m\u001b[0;34m}\u001b[0m\u001b[0;34m\u001b[0m\u001b[0;34m\u001b[0m\u001b[0m\n",
      "\u001b[0;31mModuleNotFoundError\u001b[0m: No module named 'pytest'"
     ]
    }
   ],
   "source": [
    "import random as r\n",
    "from cmath import sqrt\n",
    "from pytest import approx\n",
    "\n",
    "tests = {}\n",
    "\n",
    "# Exercise decorator, specifying that this function needs to be tested\n",
    "def exercise(fun):\n",
    "    tests[fun.__name__](fun)\n",
    "    return fun\n",
    "\n",
    "# Test decorator, specifying that this is a test for an exercise\n",
    "def test(fun):\n",
    "    tests[fun.__name__[:-5]] = fun\n",
    "    return fun\n",
    "\n",
    "# Generates a random number from -5 to 5\n",
    "def randnum():\n",
    "    return (r.random() - 0.5) * r.randint(1, 10)\n",
    "\n",
    "# Generates a random complex number\n",
    "def randcomplex():\n",
    "    return randnum() + randnum() * 1j\n",
    "\n",
    "# Height (number of rows) is the first dimension for matrices\n",
    "# Generates a random matrix populated with complex numbers\n",
    "def gen_complex_matrix(h = -1, w = -1):\n",
    "    if h == -1: h = r.randint(1, 5)\n",
    "    if w == -1: w = r.randint(1, 5)\n",
    "    ans = []\n",
    "    for i in range(h):\n",
    "        temp = []\n",
    "        for j in range(w):\n",
    "            temp.append(randcomplex())\n",
    "        ans.append(temp)\n",
    "    return ans\n"
   ]
  },
  {
   "cell_type": "code",
   "execution_count": null,
   "metadata": {},
   "outputs": [],
   "source": []
  }
 ],
 "metadata": {
  "kernelspec": {
   "display_name": "Python 3",
   "language": "python",
   "name": "python3"
  },
  "language_info": {
   "codemirror_mode": {
    "name": "ipython",
    "version": 3
   },
   "file_extension": ".py",
   "mimetype": "text/x-python",
   "name": "python",
   "nbconvert_exporter": "python",
   "pygments_lexer": "ipython3",
   "version": "3.7.3"
  }
 },
 "nbformat": 4,
 "nbformat_minor": 4
}
