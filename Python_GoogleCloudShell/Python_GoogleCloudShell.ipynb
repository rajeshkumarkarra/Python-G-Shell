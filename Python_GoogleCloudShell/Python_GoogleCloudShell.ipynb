{
 "cells": [
  {
   "cell_type": "markdown",
   "metadata": {},
   "source": [
    "# This is a Jupyter-Tensorflow Notebook/Lab"
   ]
  },
  {
   "cell_type": "markdown",
   "metadata": {},
   "source": [
    "## docker run -p 8888:8888 jupyter/tensorflow-notebook"
   ]
  },
  {
   "cell_type": "code",
   "execution_count": 1,
   "metadata": {},
   "outputs": [
    {
     "name": "stdout",
     "output_type": "stream",
     "text": [
      "tensorflow             2.0.0              \n",
      "tensorflow-estimator   2.0.1              \n",
      "Note: you may need to restart the kernel to use updated packages.\n"
     ]
    }
   ],
   "source": [
    "pip list | grep tensorflow"
   ]
  },
  {
   "cell_type": "code",
   "execution_count": 7,
   "metadata": {},
   "outputs": [
    {
     "name": "stdout",
     "output_type": "stream",
     "text": [
      "<module 'tensorflow_core._api.v2.version' from '/opt/conda/lib/python3.7/site-packages/tensorflow_core/_api/v2/version/__init__.py'>\n"
     ]
    }
   ],
   "source": [
    "import tensorflow as tf\n",
    "print(tf.version)"
   ]
  },
  {
   "cell_type": "code",
   "execution_count": 11,
   "metadata": {},
   "outputs": [
    {
     "name": "stdout",
     "output_type": "stream",
     "text": [
      "Note: you may need to restart the kernel to use updated packages.\n"
     ]
    }
   ],
   "source": [
    "pip list | grep keras"
   ]
  },
  {
   "cell_type": "code",
   "execution_count": 12,
   "metadata": {},
   "outputs": [
    {
     "name": "stdout",
     "output_type": "stream",
     "text": [
      "pandas                 0.25.3             \n",
      "Note: you may need to restart the kernel to use updated packages.\n"
     ]
    }
   ],
   "source": [
    "pip list | grep pandas"
   ]
  },
  {
   "cell_type": "code",
   "execution_count": 14,
   "metadata": {},
   "outputs": [
    {
     "name": "stdout",
     "output_type": "stream",
     "text": [
      "matplotlib             3.1.2              \n",
      "Note: you may need to restart the kernel to use updated packages.\n"
     ]
    }
   ],
   "source": [
    "pip list | grep matplotlib"
   ]
  },
  {
   "cell_type": "code",
   "execution_count": 16,
   "metadata": {},
   "outputs": [
    {
     "name": "stdout",
     "output_type": "stream",
     "text": [
      "numpy                  1.17.3             \n",
      "Note: you may need to restart the kernel to use updated packages.\n"
     ]
    }
   ],
   "source": [
    "pip list | grep numpy"
   ]
  },
  {
   "cell_type": "markdown",
   "metadata": {},
   "source": [
    "# MACHINE LEARNING\n",
    "Prerequisites\n",
    "Machine Learning Crash Course does not presume or require any prior knowledge in machine learning. However, to understand the concepts presented and complete the exercises, we recommend that students meet the following prerequisites:\n",
    "\n",
    "Mastery of intro-level algebra. You should be comfortable with variables and coefficients, linear equations, graphs of functions, and histograms. (Familiarity with more advanced math concepts such as logarithms and derivatives is helpful, but not required.)\n",
    "\n",
    "Proficiency in programming basics, and some experience coding in Python. Programming exercises in Machine Learning Crash Course are coded in Python using TensorFlow. No prior experience with TensorFlow is required, but you should feel comfortable reading and writing Python code that contains basic programming constructs, such as function definitions/invocations, lists and dicts, loops, and conditional expressions.\n",
    "\n",
    "Note: See the Key Concepts and Tools section below for a detailed list of math and programming concepts used in Machine Learning Crash Course, with reference materials for each.\n",
    "Prework\n",
    "Programming exercises run directly in your browser (no setup required!) using the Colaboratory platform. Colaboratory is supported on most major browsers, and is most thoroughly tested on desktop versions of Chrome and Firefox. If you'd prefer to download and run the exercises offline, see these instructions for setting up a local environment.\n",
    "\n",
    "Problem Framing\n",
    "If you're new to machine learning, we recommend starting your journey by taking Introduction to Machine Learning Problem Framing. This one-hour course teaches you how to identify appropriate problems for machine learning.\n",
    "\n",
    "Getting Started with pandas\n",
    "The programming exercises in Machine Learning Crash Course use the pandas library for manipulating data sets. If you're unfamiliar with pandas, we recommend completing the Quick Introduction to pandas tutorial, which illustrates the key pandas features used in the exercises.\n",
    "\n",
    "Key Concepts and Tools\n",
    "Machine Learning Crash Course discusses and applies the following concepts and tools. For more information, see the linked resources.\n",
    "\n",
    "Math\n",
    "Algebra\n",
    "Variables, coefficients, and functions\n",
    "Linear equations such as \n",
    "Logarithms, and logarithmic equations such as \n",
    "Sigmoid function\n",
    "Linear algebra\n",
    "Tensor and tensor rank\n",
    "Matrix multiplication\n",
    "Trigonometry\n",
    "Tanh (discussed as an activation function; no prior knowledge needed)\n",
    "Statistics\n",
    "Mean, median, outliers, and standard deviation\n",
    "Ability to read a histogram\n",
    "Calculus (optional, for advanced topics)\n",
    "Concept of a derivative (you won't have to actually calculate derivatives)\n",
    "Gradient or slope\n",
    "Partial derivatives (which are closely related to gradients)\n",
    "Chain rule (for a full understanding of the backpropagation algorithm for training neural networks)\n",
    "Python Programming\n",
    "Basic Python\n",
    "The following Python basics are covered in The Python Tutorial:\n",
    "\n",
    "Defining and calling functions, using positional and keyword parameters\n",
    "\n",
    "Dictionaries, lists, sets (creating, accessing, and iterating)\n",
    "\n",
    "for loops, for loops with multiple iterator variables (e.g., for a, b in [(1,2), (3,4)])\n",
    "\n",
    "if/else conditional blocks and conditional expressions\n",
    "\n",
    "String formatting (e.g., '%.2f' % 3.14)\n",
    "\n",
    "Variables, assignment, basic data types (int, float, bool, str)\n",
    "\n",
    "The pass statement\n",
    "\n",
    "Intermediate Python\n",
    "The following more advanced Python features are also covered in The Python Tutorial:\n",
    "\n",
    "List comprehensions\n",
    "Lambda functions\n",
    "Third-Party Python Libraries\n",
    "Machine Learning Crash Course code examples use the following features from third-party libraries. Prior familiarity with these libraries is not necessary; you can look up what you need to know when you need it.\n",
    "\n",
    "Matplotlib (for data visualization)\n",
    "pyplot module\n",
    "cm module\n",
    "gridspec module\n",
    "Seaborn (for heatmaps)\n",
    "heatmap function\n",
    "pandas (for data manipulation)\n",
    "DataFrame class\n",
    "NumPy (for low-level math operations)\n",
    "linspace function\n",
    "random function\n",
    "array function\n",
    "arange function\n",
    "scikit-learn (for evaluation metrics)\n",
    "metrics module\n",
    "Bash Terminal / Cloud Console\n",
    "To run the programming exercises on your local machine or in a cloud console, you should be comfortable working on the command line:\n",
    "\n",
    "Bash Reference Manual\n",
    "Bash Cheatsheet\n",
    "Learn Shell"
   ]
  },
  {
   "cell_type": "markdown",
   "metadata": {},
   "source": [
    "# Source: Kaggle\n",
    "# Hello, Python!"
   ]
  },
  {
   "cell_type": "code",
   "execution_count": 12,
   "metadata": {},
   "outputs": [
    {
     "name": "stdout",
     "output_type": "stream",
     "text": [
      "0\n",
      "But I don't want ANY spam!\n",
      "spam spam spamspam spam spam\n",
      "<class 'int'>\n",
      "<class 'float'>\n"
     ]
    }
   ],
   "source": [
    "spam_amount = 0\n",
    "print(spam_amount)\n",
    "# ordering spam, egg, spam, spam, bacon and spam (4 more serving of spam)\n",
    "spam_amount = spam_amount + 2\n",
    "\n",
    "if spam_amount > 0:\n",
    "    print(\"But I don't want ANY spam!\")\n",
    "viking_song = \"spam spam spam\" *spam_amount\n",
    "print(viking_song)\n",
    "#To know type of spam_amount\n",
    "print(type(spam_amount))\n",
    "#To know type of float\n",
    "print(type(19.95))"
   ]
  },
  {
   "cell_type": "markdown",
   "metadata": {},
   "source": [
    "# Numbers and arithmetic in Python"
   ]
  },
  {
   "cell_type": "code",
   "execution_count": 17,
   "metadata": {},
   "outputs": [
    {
     "name": "stdout",
     "output_type": "stream",
     "text": [
      "2.5\n",
      "2\n"
     ]
    }
   ],
   "source": [
    "print(5 / 2)\n",
    "print(5 // 2)"
   ]
  },
  {
   "cell_type": "code",
   "execution_count": 21,
   "metadata": {},
   "outputs": [
    {
     "name": "stdout",
     "output_type": "stream",
     "text": [
      "7\n",
      "5\n"
     ]
    }
   ],
   "source": [
    "print(8 - 3 + 2)\n",
    "print(-3 + 4 * 2)"
   ]
  },
  {
   "cell_type": "code",
   "execution_count": 26,
   "metadata": {},
   "outputs": [
    {
     "name": "stdout",
     "output_type": "stream",
     "text": [
      "Height in meters = 26.9\n"
     ]
    }
   ],
   "source": [
    "hat_height_cm = 25\n",
    "my_height_cm = 190\n",
    "\n",
    "# How tall am I, in =\n",
    "total_height_meters = hat_height_cm + my_height_cm / 100\n",
    "print(\"Height in meters =\", total_height_meters)\n"
   ]
  },
  {
   "cell_type": "markdown",
   "metadata": {},
   "source": [
    "## Builtin functions for working with numbers"
   ]
  },
  {
   "cell_type": "code",
   "execution_count": 32,
   "metadata": {},
   "outputs": [
    {
     "name": "stdout",
     "output_type": "stream",
     "text": [
      "1\n",
      "4\n",
      "32\n",
      "32\n"
     ]
    }
   ],
   "source": [
    "print(min(1,2,3))\n",
    "print(max(1,2,4))\n",
    "print(abs(32))\n",
    "print(abs(-32))"
   ]
  },
  {
   "cell_type": "markdown",
   "metadata": {},
   "source": [
    "In addition to being the names of Python's two main numerical types, int and float can also be called as functions which convert their arguments to the corresponding type:"
   ]
  },
  {
   "cell_type": "code",
   "execution_count": 5,
   "metadata": {},
   "outputs": [
    {
     "name": "stdout",
     "output_type": "stream",
     "text": [
      "10.0\n",
      "3\n",
      "808\n",
      "<class 'int'>\n",
      "808\n"
     ]
    }
   ],
   "source": [
    "print(float(10))\n",
    "print(int(3.33))\n",
    "# They can even be called on strings!\n",
    "i = int('807') + 1\n",
    "print(i)\n",
    "print(type(i))\n",
    "print(int('807')+1)"
   ]
  },
  {
   "cell_type": "code",
   "execution_count": 6,
   "metadata": {},
   "outputs": [
    {
     "data": {
      "text/plain": [
       "1"
      ]
     },
     "execution_count": 6,
     "metadata": {},
     "output_type": "execute_result"
    }
   ],
   "source": [
    "(5-3)//2"
   ]
  },
  {
   "cell_type": "code",
   "execution_count": 7,
   "metadata": {},
   "outputs": [
    {
     "data": {
      "text/plain": [
       "0"
      ]
     },
     "execution_count": 7,
     "metadata": {},
     "output_type": "execute_result"
    }
   ],
   "source": [
    "(8-3)* (2-(1+1))"
   ]
  },
  {
   "cell_type": "code",
   "execution_count": 9,
   "metadata": {},
   "outputs": [
    {
     "name": "stdout",
     "output_type": "stream",
     "text": [
      "1\n"
     ]
    }
   ],
   "source": [
    "# Variables representing the number of candies collected by alice, bob, and carol\n",
    "alice_candies = 121\n",
    "bob_candies = 77\n",
    "carol_candies = 109\n",
    "to_smash = candies_for_smash\n",
    "candies_for_smash = (alice_candies + bob_candies + carol_candies) %3\n",
    "print(to_smash)"
   ]
  },
  {
   "cell_type": "code",
   "execution_count": 10,
   "metadata": {},
   "outputs": [
    {
     "data": {
      "text/plain": [
       "10"
      ]
     },
     "execution_count": 10,
     "metadata": {},
     "output_type": "execute_result"
    }
   ],
   "source": [
    "(7-(-(-(-(-((-3)))))))"
   ]
  },
  {
   "cell_type": "code",
   "execution_count": null,
   "metadata": {},
   "outputs": [],
   "source": [
    "(7-(-(-(-(-(-(-(-(-(-(-(-(-(-(-(-(-(-(-(-(-(-(-(-(-(-(-(-(-(-(-(-(-(-(-(-(-(-(-(-(-(-(-(-(-(-(-(-(-(-(-(-(-(-(-(-(-(-(-(-(-(-(-(-(-(-(-(-(-(-(-(-(-(-(-(-(-(-(-(-(-(-(-(-(-(-(-(-(-(-(-(-(-(-(-(-(-(-(-((-3)))))))))))))))))))))))))))))))))))))))))))))))))))))))))))))))))))))))))))))))))))))))))))))))))))))"
   ]
  },
  {
   "cell_type": "code",
   "execution_count": 14,
   "metadata": {},
   "outputs": [
    {
     "data": {
      "text/plain": [
       "0"
      ]
     },
     "execution_count": 14,
     "metadata": {},
     "output_type": "execute_result"
    }
   ],
   "source": [
    "10%2"
   ]
  },
  {
   "cell_type": "code",
   "execution_count": 35,
   "metadata": {},
   "outputs": [
    {
     "name": "stdout",
     "output_type": "stream",
     "text": [
      "[0, 1, 2, 3, 4, 5, 6, 7, 8, 9]\n",
      "[0, 1, 2, 3, 4, 5, 6, 7, 8, 9]\n"
     ]
    }
   ],
   "source": [
    "odds = evens = []\n",
    "for i in range(10):\n",
    "    if (i % 2) == 0:\n",
    "        evens.append(i)\n",
    "    else:\n",
    "        odds.append(i)\n",
    "print(odds)\n",
    "print(evens)"
   ]
  },
  {
   "cell_type": "code",
   "execution_count": 44,
   "metadata": {},
   "outputs": [
    {
     "data": {
      "text/plain": [
       "1"
      ]
     },
     "execution_count": 44,
     "metadata": {},
     "output_type": "execute_result"
    }
   ],
   "source": [
    "1%2"
   ]
  },
  {
   "cell_type": "markdown",
   "metadata": {},
   "source": [
    "# FUNCTIONS\n",
    "## Source: https://python.swaroopch.com/functions.html"
   ]
  },
  {
   "cell_type": "code",
   "execution_count": 3,
   "metadata": {},
   "outputs": [
    {
     "name": "stdout",
     "output_type": "stream",
     "text": [
      "hello world \n",
      " Welcome\n",
      "hello world \n",
      " Welcome\n"
     ]
    }
   ],
   "source": [
    "def say_hello():\n",
    "    print('hello world \\n Welcome')\n",
    "    \n",
    "say_hello()\n",
    "say_hello()"
   ]
  },
  {
   "cell_type": "markdown",
   "metadata": {},
   "source": [
    "# Function Parameters\n"
   ]
  },
  {
   "cell_type": "code",
   "execution_count": 7,
   "metadata": {},
   "outputs": [],
   "source": [
    "def print_max(a, b):\n",
    "    if a > b:\n",
    "        print(a, 'is maximum')\n",
    "    elif a ==b:\n",
    "        print(a, 'is equal to ', b)\n",
    "    else:\n",
    "        print(b, 'is maximum')\n",
    "# directly pass literal values\n",
    "print_max(5, 7)\n",
    "x = 5\n",
    "y = 3\n",
    "# pass variables as arguments\n",
    "print_max(x, y)"
   ]
  },
  {
   "cell_type": "markdown",
   "metadata": {},
   "source": [
    "# Local Variables"
   ]
  },
  {
   "cell_type": "code",
   "execution_count": 6,
   "metadata": {},
   "outputs": [
    {
     "name": "stdout",
     "output_type": "stream",
     "text": [
      "x is  50\n",
      "changed local x to  2\n",
      "x is still 50\n"
     ]
    }
   ],
   "source": [
    "x = 50\n",
    "\n",
    "def func(x):\n",
    "    print('x is ', x)\n",
    "    x = 2\n",
    "    print('changed local x to ', x)\n",
    "    \n",
    "func(x)\n",
    "print('x is still', x)"
   ]
  },
  {
   "cell_type": "markdown",
   "metadata": {},
   "source": [
    "# The global statement"
   ]
  },
  {
   "cell_type": "code",
   "execution_count": 8,
   "metadata": {},
   "outputs": [
    {
     "name": "stdout",
     "output_type": "stream",
     "text": [
      "x is  50\n",
      "changed global x to x\n",
      "value of x is  2\n"
     ]
    }
   ],
   "source": [
    "x = 50\n",
    "def fun():\n",
    "    global x\n",
    "    print('x is ', x)\n",
    "    x = 2\n",
    "    print(\"changed global x to x\")\n",
    "    \n",
    "fun()\n",
    "print('value of x is ', x)"
   ]
  },
  {
   "cell_type": "markdown",
   "metadata": {},
   "source": [
    "# Source:\n",
    "# https://brilliant.org/practice/drawing/?p=2"
   ]
  },
  {
   "cell_type": "code",
   "execution_count": 14,
   "metadata": {},
   "outputs": [
    {
     "name": "stdout",
     "output_type": "stream",
     "text": [
      "0.25.3\n"
     ]
    }
   ],
   "source": [
    "import pandas as pd\n",
    "print(pd.__version__)\n"
   ]
  },
  {
   "cell_type": "code",
   "execution_count": 15,
   "metadata": {},
   "outputs": [
    {
     "name": "stdout",
     "output_type": "stream",
     "text": [
      "3.1.2\n"
     ]
    }
   ],
   "source": [
    "import matplotlib \n",
    "print(matplotlib.__version__)\n"
   ]
  },
  {
   "cell_type": "code",
   "execution_count": 16,
   "metadata": {},
   "outputs": [
    {
     "name": "stdout",
     "output_type": "stream",
     "text": [
      "2.0.0\n"
     ]
    }
   ],
   "source": [
    "import tensorflow as tf\n",
    "print(tf.__version__)"
   ]
  },
  {
   "cell_type": "code",
   "execution_count": 18,
   "metadata": {},
   "outputs": [
    {
     "name": "stdout",
     "output_type": "stream",
     "text": [
      "\n",
      "Usage:   \n",
      "  /opt/conda/bin/python -m pip <command> [options]\n",
      "\n",
      "no such option: --vesion\n",
      "Note: you may need to restart the kernel to use updated packages.\n"
     ]
    }
   ],
   "source": [
    "pip --vesion"
   ]
  },
  {
   "cell_type": "code",
   "execution_count": 19,
   "metadata": {},
   "outputs": [
    {
     "name": "stdout",
     "output_type": "stream",
     "text": [
      "Collecting qiskit\n",
      "  Downloading https://files.pythonhosted.org/packages/59/2d/563ea183a9462f1300e861796535405d0fca8616b6db849488eac225893b/qiskit-0.14.0.tar.gz\n",
      "Collecting qiskit-terra==0.11.0\n",
      "\u001b[?25l  Downloading https://files.pythonhosted.org/packages/5a/0c/79188f87383f9ea591d37cd78af54c2d4736721a71a82822d71964c75cb8/qiskit_terra-0.11.0-cp37-cp37m-manylinux1_x86_64.whl (2.7MB)\n",
      "\u001b[K     |████████████████████████████████| 2.7MB 11.0MB/s eta 0:00:01\n",
      "\u001b[?25hCollecting qiskit-aer==0.3.4\n",
      "\u001b[?25l  Downloading https://files.pythonhosted.org/packages/71/9b/ae0f55381f6c08ef23f9a2932248234f6f926876d7606ae1a44feac9fec9/qiskit_aer-0.3.4-cp37-cp37m-manylinux2010_x86_64.whl (18.2MB)\n",
      "\u001b[K     |████████████████████████████████| 18.2MB 277kB/s  eta 0:00:01    |███████                         | 4.0MB 30.1MB/s eta 0:00:01     |██████████████████▎             | 10.4MB 30.1MB/s eta 0:00:01     |█████████████████████▎          | 12.1MB 30.1MB/s eta 0:00:01     |███████████████████████████▋    | 15.7MB 30.1MB/s eta 0:00:01     |██████████████████████████████▎ | 17.2MB 30.1MB/s eta 0:00:01\n",
      "\u001b[?25hCollecting qiskit-ibmq-provider==0.4.4\n",
      "\u001b[?25l  Downloading https://files.pythonhosted.org/packages/7f/91/1236cd0da9552744aae173792c44a7a1611436f3a8156b62604aab2e67e5/qiskit_ibmq_provider-0.4.4-py3-none-any.whl (89kB)\n",
      "\u001b[K     |████████████████████████████████| 92kB 8.7MB/s  eta 0:00:01\n",
      "\u001b[?25hCollecting qiskit-ignis==0.2.0\n",
      "\u001b[?25l  Downloading https://files.pythonhosted.org/packages/78/f2/f4f89c65d2c13f473092f7e800519836611ddeeaab8d4591a70555b26a37/qiskit_ignis-0.2.0-py3-none-any.whl (100kB)\n",
      "\u001b[K     |████████████████████████████████| 102kB 9.0MB/s eta 0:00:01\n",
      "\u001b[?25hCollecting qiskit-aqua==0.6.1\n",
      "\u001b[?25l  Downloading https://files.pythonhosted.org/packages/47/2b/632c195974804d17dca01554caa013dd0c3023f4e4e6b91213c3381ce514/qiskit_aqua-0.6.1-py3-none-any.whl (979kB)\n",
      "\u001b[K     |████████████████████████████████| 983kB 14.0MB/s eta 0:00:01\n",
      "\u001b[?25hRequirement already satisfied: jsonschema>=2.6 in /opt/conda/lib/python3.7/site-packages (from qiskit-terra==0.11.0->qiskit) (3.2.0)\n",
      "Requirement already satisfied: sympy>=1.3 in /opt/conda/lib/python3.7/site-packages (from qiskit-terra==0.11.0->qiskit) (1.4)\n",
      "Requirement already satisfied: dill>=0.3 in /opt/conda/lib/python3.7/site-packages (from qiskit-terra==0.11.0->qiskit) (0.3.1.1)\n",
      "Requirement already satisfied: networkx>=2.2; python_version > \"3.5\" in /opt/conda/lib/python3.7/site-packages (from qiskit-terra==0.11.0->qiskit) (2.4)\n",
      "Collecting marshmallow-polyfield<6,>=5.7\n",
      "  Downloading https://files.pythonhosted.org/packages/d7/6c/416e7e529d03362bb57bb4be16a0bb1ada6325b12adf3e31fec4c10ef1b1/marshmallow-polyfield-5.7.tar.gz\n",
      "Collecting ply>=3.10\n",
      "\u001b[?25l  Downloading https://files.pythonhosted.org/packages/a3/58/35da89ee790598a0700ea49b2a66594140f44dec458c07e8e3d4979137fc/ply-3.11-py2.py3-none-any.whl (49kB)\n",
      "\u001b[K     |████████████████████████████████| 51kB 8.0MB/s  eta 0:00:01\n",
      "\u001b[?25hCollecting marshmallow<4,>=3\n",
      "\u001b[?25l  Downloading https://files.pythonhosted.org/packages/6e/76/01224f14737627166b94eb3bf0e334372c014edca781e39db320ce977755/marshmallow-3.3.0-py2.py3-none-any.whl (45kB)\n",
      "\u001b[K     |████████████████████████████████| 51kB 6.3MB/s  eta 0:00:01\n",
      "\u001b[?25hRequirement already satisfied: numpy>=1.13 in /opt/conda/lib/python3.7/site-packages (from qiskit-terra==0.11.0->qiskit) (1.17.3)\n",
      "Requirement already satisfied: psutil>=5 in /opt/conda/lib/python3.7/site-packages (from qiskit-terra==0.11.0->qiskit) (5.6.7)\n",
      "Requirement already satisfied: scipy>=1.0 in /opt/conda/lib/python3.7/site-packages (from qiskit-terra==0.11.0->qiskit) (1.3.2)\n",
      "Requirement already satisfied: requests>=2.19 in /opt/conda/lib/python3.7/site-packages (from qiskit-ibmq-provider==0.4.4->qiskit) (2.22.0)\n",
      "Collecting requests-ntlm>=1.1.0\n",
      "  Downloading https://files.pythonhosted.org/packages/03/4b/8b9a1afde8072c4d5710d9fa91433d504325821b038e00237dc8d6d833dc/requests_ntlm-1.1.0-py2.py3-none-any.whl\n",
      "Collecting nest-asyncio!=1.1.0,>=1.0.0\n",
      "  Downloading https://files.pythonhosted.org/packages/52/01/55100e0dda328f2181b719bddc5af0a24487de81038747d676d5be7ef879/nest_asyncio-1.2.1-py3-none-any.whl\n",
      "Collecting websockets<8,>=7\n",
      "\u001b[?25l  Downloading https://files.pythonhosted.org/packages/aa/53/1dbfbe51e8ba9a2b9bc0b7201df77fe597f1e57b6b5d9bb094d3729aeecf/websockets-7.0-cp37-cp37m-manylinux1_x86_64.whl (63kB)\n",
      "\u001b[K     |████████████████████████████████| 71kB 7.1MB/s  eta 0:00:01\n",
      "\u001b[?25hRequirement already satisfied: setuptools>=40.1.0 in /opt/conda/lib/python3.7/site-packages (from qiskit-ignis==0.2.0->qiskit) (42.0.2.post20191201)\n",
      "Collecting pyscf; sys_platform != \"win32\"\n",
      "\u001b[?25l  Downloading https://files.pythonhosted.org/packages/64/9d/5a2f169ac2e2d2fd2e9f6fb1164117705c158d1f7638b697c36ce187e716/pyscf-1.6.5-cp37-cp37m-manylinux1_x86_64.whl (21.7MB)\n",
      "\u001b[K     |████████████████████████████████| 21.7MB 253kB/s  eta 0:00:01    |█▍                              | 942kB 17.8MB/s eta 0:00:02     |██████▎                         | 4.2MB 17.8MB/s eta 0:00:01     |███████████████▏                | 10.3MB 17.8MB/s eta 0:00:01     |██████████████████████▍         | 15.2MB 17.8MB/s eta 0:00:01\n",
      "\u001b[?25hRequirement already satisfied: scikit-learn>=0.20.0 in /opt/conda/lib/python3.7/site-packages (from qiskit-aqua==0.6.1->qiskit) (0.21.3)\n",
      "Collecting docplex\n",
      "\u001b[?25l  Downloading https://files.pythonhosted.org/packages/1c/06/de7833f2e70d51286611a2676f130f0978d2c16f65047cb965d0af579d08/docplex-2.12.182.tar.gz (565kB)\n",
      "\u001b[K     |████████████████████████████████| 573kB 14.1MB/s eta 0:00:01     |█████████████████████████████   | 512kB 14.1MB/s eta 0:00:01\n",
      "\u001b[?25hRequirement already satisfied: h5py in /opt/conda/lib/python3.7/site-packages (from qiskit-aqua==0.6.1->qiskit) (2.9.0)\n",
      "Collecting fastdtw\n",
      "\u001b[?25l  Downloading https://files.pythonhosted.org/packages/99/43/30f2d8db076f216b15c10db663b46e22d1750b1ebacd7af6e62b83d6ab98/fastdtw-0.3.4.tar.gz (133kB)\n",
      "\u001b[K     |████████████████████████████████| 143kB 29.6MB/s eta 0:00:01\n",
      "\u001b[?25hCollecting quandl\n",
      "  Downloading https://files.pythonhosted.org/packages/12/64/6314547cb01fa75697ddba6d6d43a9f1d023c1730ffc6abf3db7a0c89222/Quandl-3.4.8-py2.py3-none-any.whl\n",
      "Collecting cvxopt\n",
      "\u001b[?25l  Downloading https://files.pythonhosted.org/packages/9b/84/e8c883bbfc972dc9f7b2ca9f97c56d73a44a7dfa700f73746ae0d2569cb0/cvxopt-1.2.3-cp37-cp37m-manylinux1_x86_64.whl (11.6MB)\n",
      "\u001b[K     |████████████████████████████████| 11.6MB 22.3MB/s eta 0:00:01    |████████▍                       | 3.0MB 22.3MB/s eta 0:00:01     |████████████████████████████████| 11.6MB 22.3MB/s eta 0:00:01\n",
      "\u001b[?25hCollecting dlx\n",
      "  Downloading https://files.pythonhosted.org/packages/54/c0/b8fb5bb727e983b6f5251433ef941b48f38c65bb0bd6ec509e9185bcd406/dlx-1.0.4.tar.gz\n",
      "Requirement already satisfied: six>=1.11.0 in /opt/conda/lib/python3.7/site-packages (from jsonschema>=2.6->qiskit-terra==0.11.0->qiskit) (1.13.0)\n",
      "Requirement already satisfied: importlib-metadata; python_version < \"3.8\" in /opt/conda/lib/python3.7/site-packages (from jsonschema>=2.6->qiskit-terra==0.11.0->qiskit) (1.1.0)\n",
      "Requirement already satisfied: attrs>=17.4.0 in /opt/conda/lib/python3.7/site-packages (from jsonschema>=2.6->qiskit-terra==0.11.0->qiskit) (19.3.0)\n",
      "Requirement already satisfied: pyrsistent>=0.14.0 in /opt/conda/lib/python3.7/site-packages (from jsonschema>=2.6->qiskit-terra==0.11.0->qiskit) (0.15.6)\n",
      "Requirement already satisfied: mpmath>=0.19 in /opt/conda/lib/python3.7/site-packages (from sympy>=1.3->qiskit-terra==0.11.0->qiskit) (1.1.0)\n",
      "Requirement already satisfied: decorator>=4.3.0 in /opt/conda/lib/python3.7/site-packages (from networkx>=2.2; python_version > \"3.5\"->qiskit-terra==0.11.0->qiskit) (4.4.1)\n",
      "Requirement already satisfied: chardet<3.1.0,>=3.0.2 in /opt/conda/lib/python3.7/site-packages (from requests>=2.19->qiskit-ibmq-provider==0.4.4->qiskit) (3.0.4)\n",
      "Requirement already satisfied: certifi>=2017.4.17 in /opt/conda/lib/python3.7/site-packages (from requests>=2.19->qiskit-ibmq-provider==0.4.4->qiskit) (2019.11.28)\n",
      "Requirement already satisfied: idna<2.9,>=2.5 in /opt/conda/lib/python3.7/site-packages (from requests>=2.19->qiskit-ibmq-provider==0.4.4->qiskit) (2.8)\n",
      "Requirement already satisfied: urllib3!=1.25.0,!=1.25.1,<1.26,>=1.21.1 in /opt/conda/lib/python3.7/site-packages (from requests>=2.19->qiskit-ibmq-provider==0.4.4->qiskit) (1.25.7)\n",
      "Requirement already satisfied: cryptography>=1.3 in /opt/conda/lib/python3.7/site-packages (from requests-ntlm>=1.1.0->qiskit-ibmq-provider==0.4.4->qiskit) (2.8)\n",
      "Collecting ntlm-auth>=1.0.2\n",
      "  Downloading https://files.pythonhosted.org/packages/50/09/5e397eb18685b14fd8b209e26cdb4fa6451c82c1bcc651fef05fa73e7b27/ntlm_auth-1.4.0-py2.py3-none-any.whl\n",
      "Requirement already satisfied: joblib>=0.11 in /opt/conda/lib/python3.7/site-packages (from scikit-learn>=0.20.0->qiskit-aqua==0.6.1->qiskit) (0.14.0)\n",
      "Collecting docloud>=1.0.375\n",
      "  Downloading https://files.pythonhosted.org/packages/89/1c/fcb7ea86ae5cb7137a22f00bcaa785de2d102bd4a2b16383ec4a877a835b/docloud-1.0.375.tar.gz\n",
      "Requirement already satisfied: pyasn1 in /opt/conda/lib/python3.7/site-packages (from quandl->qiskit-aqua==0.6.1->qiskit) (0.4.8)\n",
      "Collecting ndg-httpsclient\n",
      "  Downloading https://files.pythonhosted.org/packages/fb/67/c2f508c00ed2a6911541494504b7cac16fe0b0473912568df65fd1801132/ndg_httpsclient-0.5.1-py3-none-any.whl\n",
      "Collecting inflection>=0.3.1\n",
      "  Downloading https://files.pythonhosted.org/packages/d5/35/a6eb45b4e2356fe688b21570864d4aa0d0a880ce387defe9c589112077f8/inflection-0.3.1.tar.gz\n",
      "Requirement already satisfied: python-dateutil in /opt/conda/lib/python3.7/site-packages (from quandl->qiskit-aqua==0.6.1->qiskit) (2.8.1)\n",
      "Requirement already satisfied: pyOpenSSL in /opt/conda/lib/python3.7/site-packages (from quandl->qiskit-aqua==0.6.1->qiskit) (19.1.0)\n",
      "Requirement already satisfied: pandas>=0.14 in /opt/conda/lib/python3.7/site-packages (from quandl->qiskit-aqua==0.6.1->qiskit) (0.25.3)\n",
      "Collecting more-itertools<=5.0.0\n",
      "\u001b[?25l  Downloading https://files.pythonhosted.org/packages/a4/a6/42f17d065bda1fac255db13afc94c93dbfb64393eae37c749b4cb0752fc7/more_itertools-5.0.0-py3-none-any.whl (52kB)\n",
      "\u001b[K     |████████████████████████████████| 61kB 8.7MB/s  eta 0:00:01\n",
      "\u001b[?25hRequirement already satisfied: zipp>=0.5 in /opt/conda/lib/python3.7/site-packages (from importlib-metadata; python_version < \"3.8\"->jsonschema>=2.6->qiskit-terra==0.11.0->qiskit) (0.6.0)\n",
      "Requirement already satisfied: cffi!=1.11.3,>=1.8 in /opt/conda/lib/python3.7/site-packages (from cryptography>=1.3->requests-ntlm>=1.1.0->qiskit-ibmq-provider==0.4.4->qiskit) (1.13.2)\n",
      "Requirement already satisfied: pytz>=2017.2 in /opt/conda/lib/python3.7/site-packages (from pandas>=0.14->quandl->qiskit-aqua==0.6.1->qiskit) (2019.3)\n",
      "Requirement already satisfied: pycparser in /opt/conda/lib/python3.7/site-packages (from cffi!=1.11.3,>=1.8->cryptography>=1.3->requests-ntlm>=1.1.0->qiskit-ibmq-provider==0.4.4->qiskit) (2.19)\n",
      "Building wheels for collected packages: qiskit, marshmallow-polyfield, docplex, fastdtw, dlx, docloud, inflection\n",
      "  Building wheel for qiskit (setup.py) ... \u001b[?25ldone\n",
      "\u001b[?25h  Created wheel for qiskit: filename=qiskit-0.14.0-cp37-none-any.whl size=1399 sha256=5f61d8e0f6c12963105abd41784708cf72789ea400901993cf8a843ae9faab33\n",
      "  Stored in directory: /home/jovyan/.cache/pip/wheels/78/56/d2/194c8ea4c20e67c474027da76aa9df2ad5564218bc33073fbd\n",
      "  Building wheel for marshmallow-polyfield (setup.py) ... \u001b[?25ldone\n",
      "\u001b[?25h  Created wheel for marshmallow-polyfield: filename=marshmallow_polyfield-5.7-cp37-none-any.whl size=8580 sha256=679696ae3f9df65efbe4f26040b82d980683221ee65de325f105b0463c10fc9a\n",
      "  Stored in directory: /home/jovyan/.cache/pip/wheels/68/f5/09/1dcfa8613b095bb326caadfb4b111d7fc945875948b75f5c14\n",
      "  Building wheel for docplex (setup.py) ... \u001b[?25ldone\n",
      "\u001b[?25h  Created wheel for docplex: filename=docplex-2.12.182-cp37-none-any.whl size=627979 sha256=13b834f5d004db295351853a48e0fed0a4fe1a0a40cc261676759f0ee6a504b7\n",
      "  Stored in directory: /home/jovyan/.cache/pip/wheels/9b/ef/71/204f676be3eae44c121c5b779077bd06f573d86cc6524aecc8\n",
      "  Building wheel for fastdtw (setup.py) ... \u001b[?25ldone\n",
      "\u001b[?25h  Created wheel for fastdtw: filename=fastdtw-0.3.4-cp37-cp37m-linux_x86_64.whl size=391103 sha256=f128bc3d2bc1915adc819bb40f1ca6dfa6a75d1e1d0cde353ae36dbe932a314f\n",
      "  Stored in directory: /home/jovyan/.cache/pip/wheels/7e/95/df/935f19af51d6ab63d416c103c0d6eae7048a8c2ecb00a1497f\n",
      "  Building wheel for dlx (setup.py) ... \u001b[?25ldone\n",
      "\u001b[?25h  Created wheel for dlx: filename=dlx-1.0.4-cp37-none-any.whl size=5711 sha256=4d0051b38e059ae3039217750200d8d07b07600e1241a365fc1fea0e2663fc06\n",
      "  Stored in directory: /home/jovyan/.cache/pip/wheels/bb/ba/15/fdd0deb104df3254912998150ba9245668db06b00af5912d1a\n",
      "  Building wheel for docloud (setup.py) ... \u001b[?25ldone\n",
      "\u001b[?25h  Created wheel for docloud: filename=docloud-1.0.375-cp37-none-any.whl size=19480 sha256=390def65873de0cc992109802df96a711b11a6de3024766d965958c857fb91d6\n",
      "  Stored in directory: /home/jovyan/.cache/pip/wheels/4e/24/19/9b0e57545d7543ecec35c5faff78c058bf0c2506369c8b1d31\n",
      "  Building wheel for inflection (setup.py) ... \u001b[?25ldone\n",
      "\u001b[?25h  Created wheel for inflection: filename=inflection-0.3.1-cp37-none-any.whl size=6075 sha256=c1ec15c9edee818a7e3b310ffe0bed1494027601b62b4464a85c6e1c8fbdf5bf\n",
      "  Stored in directory: /home/jovyan/.cache/pip/wheels/9f/5a/d3/6fc3bf6516d2a3eb7e18f9f28b472110b59325f3f258fe9211\n",
      "Successfully built qiskit marshmallow-polyfield docplex fastdtw dlx docloud inflection\n",
      "Installing collected packages: marshmallow, marshmallow-polyfield, ply, qiskit-terra, qiskit-aer, ntlm-auth, requests-ntlm, nest-asyncio, websockets, qiskit-ibmq-provider, qiskit-ignis, pyscf, docloud, docplex, fastdtw, ndg-httpsclient, inflection, more-itertools, quandl, cvxopt, dlx, qiskit-aqua, qiskit\n",
      "  Found existing installation: more-itertools 7.2.0\n",
      "    Uninstalling more-itertools-7.2.0:\n",
      "      Successfully uninstalled more-itertools-7.2.0\n",
      "Successfully installed cvxopt-1.2.3 dlx-1.0.4 docloud-1.0.375 docplex-2.12.182 fastdtw-0.3.4 inflection-0.3.1 marshmallow-3.3.0 marshmallow-polyfield-5.7 more-itertools-5.0.0 ndg-httpsclient-0.5.1 nest-asyncio-1.2.1 ntlm-auth-1.4.0 ply-3.11 pyscf-1.6.5 qiskit-0.14.0 qiskit-aer-0.3.4 qiskit-aqua-0.6.1 qiskit-ibmq-provider-0.4.4 qiskit-ignis-0.2.0 qiskit-terra-0.11.0 quandl-3.4.8 requests-ntlm-1.1.0 websockets-7.0\n",
      "Note: you may need to restart the kernel to use updated packages.\n"
     ]
    }
   ],
   "source": [
    "pip install qiskit\n"
   ]
  },
  {
   "cell_type": "code",
   "execution_count": 2,
   "metadata": {},
   "outputs": [
    {
     "data": {
      "text/plain": [
       "{'qiskit-terra': '0.11.0',\n",
       " 'qiskit-aer': '0.3.4',\n",
       " 'qiskit-ignis': '0.2.0',\n",
       " 'qiskit-ibmq-provider': '0.4.4',\n",
       " 'qiskit-aqua': '0.6.1',\n",
       " 'qiskit': '0.14.0'}"
      ]
     },
     "execution_count": 2,
     "metadata": {},
     "output_type": "execute_result"
    }
   ],
   "source": [
    "import qiskit\n",
    "qiskit.__qiskit_version__"
   ]
  },
  {
   "cell_type": "markdown",
   "metadata": {},
   "source": [
    "# https://learnxinyminutes.com/docs/python3/ - 31/12/2019\n",
    "## Learn X in Y minutes\n",
    "### Where X=python3\n",
    "### Get the code: learnpython3.py"
   ]
  },
  {
   "cell_type": "markdown",
   "metadata": {},
   "source": [
    "# Exponentiation"
   ]
  },
  {
   "cell_type": "code",
   "execution_count": 8,
   "metadata": {},
   "outputs": [
    {
     "data": {
      "text/plain": [
       "1024"
      ]
     },
     "execution_count": 8,
     "metadata": {},
     "output_type": "execute_result"
    }
   ],
   "source": [
    "\"\"\"\n",
    "Exponentiation (x**y, x, to the Yth power)\n",
    "Example: 4*4*4*4*4=1024\n",
    "\"\"\" \n",
    "4**5\n"
   ]
  },
  {
   "cell_type": "markdown",
   "metadata": {},
   "source": [
    "# Integer division \n",
    "\n",
    " "
   ]
  },
  {
   "cell_type": "raw",
   "metadata": {},
   "source": [
    "**5/3**    **5//3**                       **-5//3**\n",
    "3)5(1.66   3)5(1 (rounding off to 1)  3)-5(1\n",
    "  3          3                          -2(remainder as the result)\n",
    "______      ____                       _____\n",
    "  20         2\n",
    "  18                                   \n",
    "______      \n",
    "  20         \n",
    "  18              \n",
    "  20      "
   ]
  },
  {
   "cell_type": "code",
   "execution_count": 1,
   "metadata": {},
   "outputs": [
    {
     "name": "stdout",
     "output_type": "stream",
     "text": [
      "1.6666666666666667\n",
      "1\n",
      "-2\n",
      "1\n",
      "-2\n"
     ]
    }
   ],
   "source": [
    "# Integer division rounds down for both positive and negative numbers.\n",
    "print(5/3)\n",
    "print(5//3)\n",
    "print(-5//3)\n",
    "print(7//5)\n",
    "print(-7//5)"
   ]
  },
  {
   "cell_type": "markdown",
   "metadata": {},
   "source": [
    "## 07-01-2020\n",
    "# Matrices and Vectors (in Python)"
   ]
  },
  {
   "cell_type": "code",
   "execution_count": 3,
   "metadata": {},
   "outputs": [
    {
     "name": "stdout",
     "output_type": "stream",
     "text": [
      "(3, 3)\n",
      "(3, 1)\n"
     ]
    }
   ],
   "source": [
    "import numpy as np\n",
    "M = np.array([[1,2,3],\n",
    "             [4,5,6],\n",
    "             [7,8,9]])\n",
    "\n",
    "V = np.array([[1],\n",
    "             [2],\n",
    "             [3]])\n",
    "\n",
    "print(M.shape)\n",
    "print(V.shape)"
   ]
  },
  {
   "cell_type": "markdown",
   "metadata": {},
   "source": [
    "# 07-01-2020"
   ]
  },
  {
   "cell_type": "code",
   "execution_count": 2,
   "metadata": {},
   "outputs": [
    {
     "name": "stdout",
     "output_type": "stream",
     "text": [
      "3.3333333333333335\n"
     ]
    }
   ],
   "source": [
    "# The resul of divisionion is always a float\n",
    "print(10.0/3)"
   ]
  },
  {
   "cell_type": "markdown",
   "metadata": {},
   "source": [
    "# divide and floow"
   ]
  },
  {
   "cell_type": "code",
   "execution_count": 4,
   "metadata": {},
   "outputs": [
    {
     "name": "stdout",
     "output_type": "stream",
     "text": [
      "-5\n",
      "4\n"
     ]
    }
   ],
   "source": [
    "print(-13//3)\n",
    "print(13//3)"
   ]
  },
  {
   "cell_type": "markdown",
   "metadata": {},
   "source": [
    "# Modulo"
   ]
  },
  {
   "cell_type": "markdown",
   "metadata": {},
   "source": [
    "## https://www.calculatorsoup.com/calculators/math/longdivisiondecimals.php"
   ]
  },
  {
   "cell_type": "code",
   "execution_count": 2,
   "metadata": {},
   "outputs": [
    {
     "name": "stdout",
     "output_type": "stream",
     "text": [
      "1\n",
      "2\n",
      "-6\n",
      "5\n"
     ]
    }
   ],
   "source": [
    "print(7 % 3)\n",
    "print(7 // 3)\n",
    "print(-17//3)\n",
    "print(17//3)"
   ]
  },
  {
   "cell_type": "code",
   "execution_count": 1,
   "metadata": {},
   "outputs": [
    {
     "name": "stdout",
     "output_type": "stream",
     "text": [
      "3\n",
      "2\n",
      "-4\n",
      "3\n",
      "2\n",
      "1\n",
      "3\n",
      "2\n",
      "2\n",
      "3\n",
      "3\n",
      "-4\n",
      "2\n",
      "5\n"
     ]
    }
   ],
   "source": [
    "print(17 // 5)\n",
    "print(17 % 5)\n",
    "print(-17 // 5)\n",
    "print(-17 % 5)\n",
    "print(23 % 3)\n",
    "print(-23 % 3)\n",
    "print(13 % 5)\n",
    "print(-13 % 5)\n",
    "print(27 % 5)\n",
    "print(-27 % 5)\n",
    "print(23 // 7)\n",
    "print(-23 // 7)\n",
    "print(23 % 7)\n",
    "print(-23 % 7)"
   ]
  },
  {
   "cell_type": "markdown",
   "metadata": {},
   "source": [
    "## # Enforce precedence with parentheses\n",
    "\n"
   ]
  },
  {
   "cell_type": "code",
   "execution_count": 9,
   "metadata": {},
   "outputs": [
    {
     "name": "stdout",
     "output_type": "stream",
     "text": [
      "8\n",
      "5\n"
     ]
    }
   ],
   "source": [
    "print((1+3)*2)\n",
    "print((1*3)+(1*2))"
   ]
  },
  {
   "cell_type": "markdown",
   "metadata": {},
   "source": [
    "# Negate with NOT"
   ]
  },
  {
   "cell_type": "code",
   "execution_count": 10,
   "metadata": {},
   "outputs": [
    {
     "name": "stdout",
     "output_type": "stream",
     "text": [
      "False\n",
      "True\n"
     ]
    }
   ],
   "source": [
    "print(not True)\n",
    "print(not False)"
   ]
  },
  {
   "cell_type": "markdown",
   "metadata": {},
   "source": [
    "## Boolean Operators"
   ]
  },
  {
   "cell_type": "code",
   "execution_count": 12,
   "metadata": {},
   "outputs": [
    {
     "name": "stdout",
     "output_type": "stream",
     "text": [
      "False\n",
      "True\n"
     ]
    }
   ],
   "source": [
    "# Note \"and\" and \"or\" are case-sensitive\n",
    "print(True and False)\n",
    "print(False or True)"
   ]
  },
  {
   "cell_type": "code",
   "execution_count": null,
   "metadata": {},
   "outputs": [],
   "source": []
  }
 ],
 "metadata": {
  "kernelspec": {
   "display_name": "Python 3",
   "language": "python",
   "name": "python3"
  },
  "language_info": {
   "codemirror_mode": {
    "name": "ipython",
    "version": 3
   },
   "file_extension": ".py",
   "mimetype": "text/x-python",
   "name": "python",
   "nbconvert_exporter": "python",
   "pygments_lexer": "ipython3",
   "version": "3.7.3"
  }
 },
 "nbformat": 4,
 "nbformat_minor": 4
}
